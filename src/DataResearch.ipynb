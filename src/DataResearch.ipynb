{
 "cells": [
  {
   "cell_type": "code",
   "execution_count": null,
   "metadata": {
    "vscode": {
     "languageId": "plaintext"
    }
   },
   "outputs": [],
   "source": [
    "RECOLECCION Y FILTRADO DE DATOS: \n",
    "OBTENEMOS LOS DATOS EN FORMATO CSV, ADEMAS DEL INDICE DE VARIABLES SELECCIONADAS EN ARCHIVO HTML.\n",
    "LA PAGINA ES: ESS DATA PORTAL, ORGANISMO EUROPEO DE ENCUESTAS POR PAISES.\n",
    "RECOLECTAN DATOS SOCIODEMOGRAFICOS , POLÍTICOS, BIENESTAR SOCIAL , ETC.\n",
    "\"\"https://ess.sikt.no/en/\"\"\n",
    "Hacemos una seleccion de variables dentro de las posibilidades que nos ofrece el selector de la web:\n",
    "Escogemos los apartados de politicas, bienestar social, y valores humanos.\n",
    "Haremos una seleccion de datos y las tablas se almacenaran en SQL para utilizarlas en otro notebook de exploracion de datos\n",
    "y realizar asi el feature engineering.\n"
   ]
  },
  {
   "cell_type": "code",
   "execution_count": null,
   "metadata": {
    "vscode": {
     "languageId": "plaintext"
    }
   },
   "outputs": [],
   "source": [
    "df_rd= pd.read_csv('/workspaces/ProyectoFinal/data/raw/MainDataProyect/ESS2023DataSpain.csv')\n",
    "df_rd"
   ]
  }
 ],
 "metadata": {
  "language_info": {
   "name": "python"
  }
 },
 "nbformat": 4,
 "nbformat_minor": 2
}
