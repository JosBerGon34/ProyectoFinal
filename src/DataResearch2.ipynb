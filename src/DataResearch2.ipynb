{
 "cells": [
  {
   "cell_type": "markdown",
   "metadata": {},
   "source": [
    "DATARESEARCH2: EN este documento nos centraremos en obtener tablas importantes para nuestra seleccion de paises, la inflacion, o deflactor del PIB, es un factor precursor de politicas negativas para el bienestar del individuo,\n",
    "tambien se puede relacionar con el PIB PER CAPITA, el SMI y el Sueldo bruto Anual Medio.\n",
    "Vamos a relacionar datos economicos con otros factores importantes a la hora de agrupar paises como la zona geografica y similitudes culturales."
   ]
  },
  {
   "cell_type": "code",
   "execution_count": 8,
   "metadata": {},
   "outputs": [],
   "source": [
    "from selenium import webdriver\n",
    "from selenium.webdriver.support.ui import WebDriverWait\n",
    "from selenium.webdriver.common.by import By\n",
    "from selenium.webdriver.common.keys import Keys\n",
    "from bs4 import BeautifulSoup as bs\n",
    "import undetected_chromedriver as uc\n",
    "import requests\n",
    "import random \n",
    "import pandas as pd\n",
    "import numpy as np\n",
    "import sqlite3\n",
    "import time"
   ]
  },
  {
   "cell_type": "code",
   "execution_count": null,
   "metadata": {},
   "outputs": [],
   "source": [
    "\n",
    "# Initialize the webdriver (replace 'Chrome' with your browser)\n",
    "driver = webdriver.Chrome()\n",
    "\n",
    "# Go to the URL\n",
    "driver.get(\"https://datos.bancomundial.org/indicator/NY.GDP.DEFL.KD.ZG?end=2023&locations=EU&most_recent_value_desc=false&start=1960&view=chart\")\n",
    "\n",
    "# Wait for the page to load (adjust the time as needed)\n",
    "time.sleep(5)\n",
    "\n",
    "# **Extracting data:**\n",
    "# This part will depend on the structure of the webpage.\n",
    "# You'll need to use Selenium's methods like `find_element` or `find_elements`\n",
    "# to locate the elements containing the data you want.\n",
    "\n",
    "# Example: Assuming data is in table rows with specific classes\n",
    "data_rows = driver.find_elements(By.CLASS_NAME, \"data-row\")\n",
    "\n",
    "# Extract data from each row (modify selectors and logic as needed)\n",
    "extracted_data = []\n",
    "for row in data_rows:\n",
    "    year_cell = row.find_element(By.CLASS_NAME, \"year-cell\")\n",
    "    value_cell = row.find_element(By.CLASS_NAME, \"value-cell\")\n",
    "    year = year_cell.text\n",
    "    value = value_cell.text\n",
    "    extracted_data.append({\"Año\": year, \"Valor\": value})\n",
    "\n",
    "# Create a pandas DataFrame\n",
    "df = pd.DataFrame(extracted_data)\n",
    "\n",
    "# **Storing in database (optional):**\n",
    "# Create a connection and store the DataFrame in a table\n",
    "conn = sqlite3.connect('my_database.db')\n",
    "df.to_sql('data_table', conn, if_exists='replace', index=False)\n",
    "conn.close()\n",
    "\n",
    "# Close the browser\n",
    "driver.quit()"
   ]
  }
 ],
 "metadata": {
  "kernelspec": {
   "display_name": ".venv",
   "language": "python",
   "name": "python3"
  },
  "language_info": {
   "codemirror_mode": {
    "name": "ipython",
    "version": 3
   },
   "file_extension": ".py",
   "mimetype": "text/x-python",
   "name": "python",
   "nbconvert_exporter": "python",
   "pygments_lexer": "ipython3",
   "version": "3.10.12"
  }
 },
 "nbformat": 4,
 "nbformat_minor": 2
}
