{
 "cells": [
  {
   "cell_type": "markdown",
   "metadata": {},
   "source": [
    "DATARESEARCH2: EN este documento nos centraremos en obtener tablas importantes para nuestra seleccion de paises, la inflacion, o deflactor del PIB, es un factor precursor de politicas negativas para el bienestar del individuo,\n",
    "tambien se puede relacionar con el PIB PER CAPITA, el SMI y el Sueldo bruto Anual Medio.\n",
    "Vamos a relacionar datos economicos con otros factores importantes a la hora de agrupar paises como la zona geografica y similitudes culturales."
   ]
  },
  {
   "cell_type": "code",
   "execution_count": 2,
   "metadata": {},
   "outputs": [],
   "source": [
    "from selenium import webdriver\n",
    "from selenium.webdriver.support.ui import WebDriverWait\n",
    "from selenium.webdriver.common.by import By\n",
    "from selenium.webdriver.common.keys import Keys\n",
    "from selenium.webdriver.chrome.options import Options\n",
    "from selenium.webdriver.support import expected_conditions as EC\n",
    "from selenium.webdriver.firefox.options import Options\n",
    "from selenium.common.exceptions import WebDriverException\n",
    "import matplotlib.pyplot as plt\n",
    "from matplotlib.ticker import FuncFormatter\n",
    "from bs4 import BeautifulSoup as bs\n",
    "import undetected_chromedriver as uc\n",
    "import requests\n",
    "import random \n",
    "import pandas as pd\n",
    "import numpy as np\n",
    "import sqlite3\n",
    "import time\n",
    "import os"
   ]
  },
  {
   "cell_type": "code",
   "execution_count": null,
   "metadata": {},
   "outputs": [],
   "source": [
    "\n",
    "driver = webdriver.Chrome() \n",
    "url = \"https://datos.bancomundial.org/indicador/NY.GDP.DEFL.KD.ZG?contextual=region&end=2023&locations=EU-DK&most_recent_value_desc=false&start=1961&view=chart\"\n",
    "driver.get(\"url\") \n",
    "mi_programa --user-data-dir=Documentos/datos_sesion2\n",
    "# Find all the \"item\" divs containing the data\n",
    "item_divs = driver.find_elements(By.CLASS_NAME, \"item\") \n",
    "\n",
    "# Create an empty list to store the extracted data\n",
    "inflacion = []\n",
    "\n",
    "# Iterate through each \"item\" div\n",
    "for item in item_divs:\n",
    "    # Extract country name\n",
    "    country_name = item.find_element(By.CLASS_NAME, \"country-name\").text \n",
    "    \n",
    "    # Extract year\n",
    "    year = item.find_elements(By.TAG_NAME, \"div\")[1].text \n",
    "    \n",
    "    # Extract value\n",
    "    value = item.find_elements(By.TAG_NAME, \"div\")[2].text \n",
    "    \n",
    "    # Append the extracted data to the list\n",
    "    inflacion.append({\"PaisEuro\": country_name, \"Año\": year, \"Inflacion\": value})\n",
    "\n",
    "\n",
    "df_inf= pd.DataFrame(inflacion)\n",
    "\n",
    "# Print the DataFrame\n",
    "print(df_inf)\n",
    "\n",
    "# Close the WebDriver\n",
    "driver.quit()"
   ]
  }
 ],
 "metadata": {
  "kernelspec": {
   "display_name": "Python 3",
   "language": "python",
   "name": "python3"
  },
  "language_info": {
   "codemirror_mode": {
    "name": "ipython",
    "version": 3
   },
   "file_extension": ".py",
   "mimetype": "text/x-python",
   "name": "python",
   "nbconvert_exporter": "python",
   "pygments_lexer": "ipython3",
   "version": "3.13.0"
  }
 },
 "nbformat": 4,
 "nbformat_minor": 2
}
