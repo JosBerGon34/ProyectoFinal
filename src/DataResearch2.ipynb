{
 "cells": [
  {
   "cell_type": "markdown",
   "metadata": {},
   "source": [
    "DATARESEARCH2: EN este documento nos centraremos en obtener tablas importantes para nuestra seleccion de paises, la inflacion, o deflactor del PIB, es un factor precursor de politicas negativas para el bienestar del individuo,\n",
    "tambien se puede relacionar con el PIB PER CAPITA, el SMI y el Sueldo bruto Anual Medio.\n",
    "Vamos a relacionar datos economicos con otros factores importantes a la hora de agrupar paises como la zona geografica y similitudes culturales.\n",
    "Voy a utilizar Selenium com ChromeDriver instalado en mi ordenador de sobremesa, pero ahora mismo hay una extension de chrome , en la web de chrome de extensiones llamada \"Instant Data Scrapper\" que ofrece la posibilidad de descargar las tablas en formato\n",
    "Excel y CSV, a tiempo real, sin ningun tipo de explorador configurado para tareas automatizadas."
   ]
  },
  {
   "cell_type": "code",
   "execution_count": 1,
   "metadata": {},
   "outputs": [
    {
     "ename": "ModuleNotFoundError",
     "evalue": "No module named 'webdriver_manager'",
     "output_type": "error",
     "traceback": [
      "\u001b[1;31m---------------------------------------------------------------------------\u001b[0m",
      "\u001b[1;31mModuleNotFoundError\u001b[0m                       Traceback (most recent call last)",
      "Cell \u001b[1;32mIn[1], line 2\u001b[0m\n\u001b[0;32m      1\u001b[0m \u001b[38;5;28;01mfrom\u001b[39;00m\u001b[38;5;250m \u001b[39m\u001b[38;5;21;01mselenium\u001b[39;00m\u001b[38;5;250m \u001b[39m\u001b[38;5;28;01mimport\u001b[39;00m webdriver\n\u001b[1;32m----> 2\u001b[0m \u001b[38;5;28;01mfrom\u001b[39;00m\u001b[38;5;250m \u001b[39m\u001b[38;5;21;01mwebdriver_manager\u001b[39;00m\u001b[38;5;21;01m.\u001b[39;00m\u001b[38;5;21;01mchrome\u001b[39;00m\u001b[38;5;250m \u001b[39m\u001b[38;5;28;01mimport\u001b[39;00m ChromeDriverManager\n\u001b[0;32m      3\u001b[0m \u001b[38;5;28;01mfrom\u001b[39;00m\u001b[38;5;250m \u001b[39m\u001b[38;5;21;01mselenium\u001b[39;00m\u001b[38;5;21;01m.\u001b[39;00m\u001b[38;5;21;01mwebdriver\u001b[39;00m\u001b[38;5;21;01m.\u001b[39;00m\u001b[38;5;21;01msupport\u001b[39;00m\u001b[38;5;21;01m.\u001b[39;00m\u001b[38;5;21;01mui\u001b[39;00m\u001b[38;5;250m \u001b[39m\u001b[38;5;28;01mimport\u001b[39;00m WebDriverWait\n\u001b[0;32m      4\u001b[0m \u001b[38;5;28;01mfrom\u001b[39;00m\u001b[38;5;250m \u001b[39m\u001b[38;5;21;01mselenium\u001b[39;00m\u001b[38;5;21;01m.\u001b[39;00m\u001b[38;5;21;01mwebdriver\u001b[39;00m\u001b[38;5;21;01m.\u001b[39;00m\u001b[38;5;21;01mcommon\u001b[39;00m\u001b[38;5;21;01m.\u001b[39;00m\u001b[38;5;21;01mby\u001b[39;00m\u001b[38;5;250m \u001b[39m\u001b[38;5;28;01mimport\u001b[39;00m By\n",
      "\u001b[1;31mModuleNotFoundError\u001b[0m: No module named 'webdriver_manager'"
     ]
    }
   ],
   "source": [
    "from selenium import webdriver\n",
    "from webdriver_manager.chrome import ChromeDriverManager\n",
    "from selenium.webdriver.support.ui import WebDriverWait\n",
    "from selenium.webdriver.common.by import By\n",
    "from selenium.webdriver.common.keys import Keys\n",
    "from selenium.webdriver.chrome.options import Options\n",
    "from selenium.webdriver.support import expected_conditions as EC\n",
    "from selenium.webdriver.firefox.options import Options\n",
    "from selenium.common.exceptions import WebDriverException\n",
    "from selenium.webdriver.chrome.service import Service \n",
    "import matplotlib.pyplot as plt\n",
    "from matplotlib.ticker import FuncFormatter\n",
    "from bs4 import BeautifulSoup as bs\n",
    "import requests\n",
    "import random \n",
    "import pandas as pd\n",
    "import numpy as np\n",
    "import sqlite3\n",
    "import time\n",
    "import os"
   ]
  },
  {
   "cell_type": "code",
   "execution_count": null,
   "metadata": {},
   "outputs": [],
   "source": [
    "#Procedemos a descargar la tabla de Inflacion en la zona euro del 2023, dado que la del año 2024 aun no esta disponible.\n",
    "driver = webdriver.Chrome()\n",
    "url = \"https://datos.bancomundial.org/indicador/NY.GDP.DEFL.KD.ZG?contextual=region&end=2023&locations=EU-DK&most_recent_value_desc=false&start=1961&view=chart\"\n",
    "#Nuestra tabla esta anidada en un div de esta forma:\n",
    "#<div><div class=\"item\" style=\"min-height: 58px;\"><div data-customlink=\"nl:body content\" data-text=\"Dinamarca\">ent_value<a class=\"country-name\" \n",
    "#href=\"/indicador/NY.GDP.DEFL.KD.ZG?contextual=region&amp;end=2023&amp;locations=EU-DK&amp;most_rec_desc=false&amp;start=1961&amp;view=chart\">Dinamarca</a></div><div>2023</div><div>-3,8</div><div>\n",
    "'''Como vemos, encontramos los paises dentro de un div por el class name de country-name y los datos de año e inflacion en dos items div posteriormente'''\n",
    "driver.get(url)\n",
    "# XPath para encontrar todos los elementos con la clase 'item'\n",
    "xpath_items = \"//div[@class='item']\"\n",
    "items = driver.find_elements(By.XPATH, xpath_items)\n",
    "data = []\n",
    "for item in items:\n",
    "    # Extraer el nombre del país\n",
    "    pais = item.find_element(By.XPATH, \".//a[@class='country-name']\").text.strip()\n",
    "\n",
    "    # Extraer el año\n",
    "    ano = item.find_elements(By.TAG_NAME, \"div\")[1].text.strip() \n",
    "\n",
    "    # Extraer el valor de la inflación\n",
    "    inflacion = item.find_elements(By.TAG_NAME, \"div\")[2].text.strip() \n",
    "\n",
    "    data.append({\"País\": pais, \"Año\": ano, \"Inflación\": inflacion})\n",
    "\n",
    "# Crear un DataFrame de pandas\n",
    "import pandas as pd\n",
    "df_inflacion = pd.DataFrame(data)\n",
    "print(df_inflacion)"
   ]
  },
  {
   "cell_type": "code",
   "execution_count": 8,
   "metadata": {},
   "outputs": [],
   "source": [
    "# Crear la tabla si no existe\n",
    "conn = sqlite3.connect('C:/GitHubRepos/ProyectoFinal/data/processed/Dataset9k.db')\n",
    "conn.execute('''\n",
    "    CREATE TABLE IF NOT EXISTS EuroInfl (\n",
    "        Pais TEXT,\n",
    "        Año INTEGER,\n",
    "        Inflacion REAL\n",
    "    )\n",
    "''')\n",
    "\n",
    "# Insertar el DataFrame en la tabla sin el índice\n",
    "df_inflacion.to_sql('EuroInfl', conn, if_exists='replace', index=False)\n",
    "\n",
    "# Cerrar la conexión a la base de datos\n",
    "conn.close()"
   ]
  }
 ],
 "metadata": {
  "kernelspec": {
   "display_name": ".FPJBGPCSobremesa-env",
   "language": "python",
   "name": "python3"
  },
  "language_info": {
   "codemirror_mode": {
    "name": "ipython",
    "version": 3
   },
   "file_extension": ".py",
   "mimetype": "text/x-python",
   "name": "python",
   "nbconvert_exporter": "python",
   "pygments_lexer": "ipython3",
   "version": "3.13.0"
  }
 },
 "nbformat": 4,
 "nbformat_minor": 2
}
