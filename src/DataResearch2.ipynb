{
 "cells": [
  {
   "cell_type": "markdown",
   "metadata": {},
   "source": [
    "DATARESEARCH2: EN este documento nos centraremos en obtener tablas importantes para nuestra seleccion de paises, la inflacion, o deflactor del PIB, es un factor precursor de politicas negativas para el bienestar del individuo,\n",
    "tambien se puede relacionar con el PIB PER CAPITA, el SMI y el Sueldo bruto Anual Medio.\n",
    "Vamos a relacionar datos economicos con otros factores importantes a la hora de agrupar paises como la zona geografica y similitudes culturales."
   ]
  },
  {
   "cell_type": "code",
   "execution_count": null,
   "metadata": {},
   "outputs": [],
   "source": [
    "from selenium import webdriver\n",
    "from selenium.webdriver.common.by import By\n",
    "from bs4 import BeautifulSoup\n",
    "import pandas as pd\n",
    "import sqlite3\n",
    "#pip install selenium pandas beautifulsoup4\n",
    "# Inicializar el webdriver\n",
    "driver = webdriver.Chrome()  # Reemplaza 'Chrome' por tu navegador\n",
    "\n",
    "# Ir a la URL\n",
    "driver.get(\"https://datos.bancomundial.org/indicator/NY.GDP.DEFL.KD.ZG?end=2023&locations=EU&most_recent_value_desc=false&start=1960&view=chart\")\n",
    "\n",
    "# Esperar a que la gráfica se cargue (ajusta el tiempo según sea necesario)\n",
    "time.sleep(5)\n",
    "\n",
    "# Obtener el código HTML de la página\n",
    "page_source = driver.page_source\n",
    "\n",
    "# Analizar el HTML con BeautifulSoup\n",
    "soup = BeautifulSoup(page_source, 'html.parser')\n",
    "\n",
    "# Encontrar el elemento que contiene la gráfica (ajusta el selector según la estructura de la página)\n",
    "chart_data = soup.find('div', {'id': 'chart-container'})\n",
    "\n",
    "# Extraer los datos de la gráfica (esto dependerá de la estructura de la gráfica en la página web)\n",
    "# Por ejemplo, si los datos están en un script JavaScript:\n",
    "script_tag = chart_data.find('script', type='text/javascript')\n",
    "# Aquí necesitarás parsear el script para extraer los datos\n",
    "\n",
    "# Convertir los datos extraídos a un DataFrame de Pandas\n",
    "# (Suponiendo que tienes una lista de listas con los datos)\n",
    "data = [\n",
    "    # ... tus datos extraídos\n",
    "]\n",
    "df = pd.DataFrame(data, columns=['Año', 'Valor'])\n",
    "\n",
    "# Crear una conexión a la base de datos\n",
    "conn = sqlite3.connect('mi_base_de_datos.db')\n",
    "\n",
    "# Crear una tabla en la base de datos\n",
    "df.to_sql('datos_grafico', conn, if_exists='replace', index=False)\n",
    "\n",
    "# Cerrar la conexión y el navegador\n",
    "conn.close()\n",
    "driver.quit()"
   ]
  }
 ],
 "metadata": {
  "kernelspec": {
   "display_name": ".venv",
   "language": "python",
   "name": "python3"
  },
  "language_info": {
   "name": "python",
   "version": "3.10.12"
  }
 },
 "nbformat": 4,
 "nbformat_minor": 2
}
