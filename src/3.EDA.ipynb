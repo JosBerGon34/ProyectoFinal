{
 "cells": [
  {
   "cell_type": "markdown",
   "metadata": {},
   "source": [
    "HIPOTESIS EDA:\n",
    "\n",
    "EN ESTE EDA SE QUIERE DEMOSTRAR QUE LAS POLITICAS DE IZQUIERDAS Y GLOBALISTAS, QUE SE REFLEJAN EN INDICADORES QUE SON CONSECUENCIA DE LA EMISION DESENFRENADA DE DEUDA, Y EL AUMENTO FISCAL TIENEN UN EFECTO NEGATIVO EN LOS VALORES ÉTICOS, SALUD TANTO FÍSICA Y MENTAL,\n",
    "ADEMAS DE REPERCUTIR EN EL PRESTIGIO DADO POR LA CIUDADANIA ACTIVA AL LOBBY POLÍTICO Y ORGANISMOS QUE REPRESENTAN AL SISTEMA ,(Cuerpo policial, organismos internacionales, Eurodiputados, etc.)\n",
    "EN ESTE CASO EL ESTUDIO SOLO SE CENTRARA EN LA EUROZONA. Y MAS DETALLADAMENTE EN SUBGRUPOS DE PAISES QUE TIENEN PARECIDOS EN LAS CARACTERISTICAS ECONOMICAS, CULTURALES Y CON CIERTA CERCANIA GEOGRAFICA.\n",
    "\n",
    "\n",
    "EN RESUMEN SE DEMOSTRARA LA RELACION POSITIVA ENTRE LA INFLACION, EL BAJO SUELDO BRUTO MENSUAL MEDIO DEL PAIS Y CONDUCTAS NEGATIVAS PARA EL SISTEMA DE LA CIUDADANIA."
   ]
  },
  {
   "cell_type": "markdown",
   "metadata": {},
   "source": [
    "PLANTEAMIENTO:\n",
    "Para ello haremos una división de nuestro dataset basandonos en la inflación, sueldo bruto mensual medio y pib per capita, para crear subgrupos que tengan similitudes socioeconomicas, compararemos los datos respecto a la Eurozona en general. Haremos un trabajo de etiquetación ademas de proponer varias variables de diferente campo semantico como targets."
   ]
  },
  {
   "cell_type": "markdown",
   "metadata": {},
   "source": [
    "Preparacion de datos:\n",
    "Vamos a preparar los dataframes, descargandolos de la base de datos sql \"database9k.db\""
   ]
  },
  {
   "cell_type": "code",
   "execution_count": 1,
   "metadata": {},
   "outputs": [
    {
     "name": "stdout",
     "output_type": "stream",
     "text": [
      "Database path: C:\\GitHubRepos\\ProyectoFinal\\data\\processed\\Dataset9k.db\n",
      "[('ZonaEuroESS',), ('ZEvars',), ('EuroInfl',), ('EuroPPC',), ('EuroSBMM',)]\n",
      "            País   Año Inflación\n",
      "0      Dinamarca  2023      -3,8\n",
      "1  Unión Europea  2023       6,4\n",
      "2      Dinamarca  2023      -3,8\n",
      "3     Luxemburgo  2023       3,4\n",
      "4        Irlanda  2023       3,6 \n",
      "             País   Año       PPC\n",
      "0  Unión Europea  2023  41.422,8\n",
      "1       Bulgaria  2023  15.885,5\n",
      "2        Rumania  2023  18.404,3\n",
      "3        Croacia  2023  21.865,5\n",
      "4        Polonia  2023  22.056,7 \n",
      "               País  Salario medio (€/mes)\n",
      "0  Luxemburgo :lu:                   3713\n",
      "1   Dinamarca :dk:                   3573\n",
      "2    Alemania :de:                   3148\n",
      "3     Irlanda :ie:                   3051\n",
      "4     Bélgica :be:                   3007 \n",
      "\n"
     ]
    }
   ],
   "source": [
    "#1) Creacion de Subgrupos de paises:\n",
    "import pandas as pd\n",
    "from sqlalchemy import create_engine, text\n",
    "import os\n",
    "import sqlite3\n",
    "#1.1 Nos conectamos a la base de datos.\n",
    "database_path = os.path.abspath(\"C:/GitHubRepos/ProyectoFinal/data/processed/Dataset9k.db\")\n",
    "print(f\"Database path: {database_path}\")\n",
    "conexion = create_engine(f'sqlite:///{database_path}')\n",
    "\n",
    "#1.2 Obtenemos una lista de las tablas sql.\n",
    "with conexion.connect() as conn:\n",
    "    stmt = text(\"SELECT name FROM sqlite_master WHERE type='table';\")\n",
    "    lista = conn.execute(stmt)\n",
    "    tablas = lista.fetchall()\n",
    "    print(tablas)\n",
    "#Descargamos los df's en un diccionario de dataframes. Desde la posicion 0.\n",
    "dataframes = {}\n",
    "for dfs_eda in tablas:\n",
    "    dataframes[dfs_eda[0]] = pd.read_sql_table(dfs_eda[0], conexion)\n",
    "\n",
    "#Cargamos las tablas accediendo a ellas a traves del nombre original recopilado en la lista del for anterior\n",
    "df_infl = dataframes['EuroInfl']\n",
    "df_PPC = dataframes['EuroPPC']\n",
    "df_EuroSBMM = dataframes['EuroSBMM']\n",
    "print(df_infl.head(), '\\n', df_PPC.head(), '\\n', df_EuroSBMM.head(), '\\n')\n",
    "del tablas\n",
    "del dataframes"
   ]
  }
 ],
 "metadata": {
  "kernelspec": {
   "display_name": ".FPJBGPCSobremesa-env",
   "language": "python",
   "name": "python3"
  },
  "language_info": {
   "codemirror_mode": {
    "name": "ipython",
    "version": 3
   },
   "file_extension": ".py",
   "mimetype": "text/x-python",
   "name": "python",
   "nbconvert_exporter": "python",
   "pygments_lexer": "ipython3",
   "version": "3.13.0"
  }
 },
 "nbformat": 4,
 "nbformat_minor": 2
}
