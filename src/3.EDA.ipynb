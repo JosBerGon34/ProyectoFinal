{
 "cells": [
  {
   "cell_type": "markdown",
   "metadata": {},
   "source": [
    "HIPOTESIS EDA:\n",
    "\n",
    "EN ESTE EDA SE QUIERE DEMOSTRAR QUE LAS POLITICAS DE IZQUIERDAS Y GLOBALISTAS, COMO LAS POLITICAS DE LA UNION EUROPEA, QUE SE REFLEJAN EN INDICADORES, QUE SON CONSECUENCIA DE LA EMISION DESENFRENADA DE DEUDA Y EL AUMENTO FISCAL, TIENEN UN EFECTO NEGATIVO EN LOS VALORES ÉTICOS, SALUD TANTO FÍSICA Y MENTAL,\n",
    "ADEMAS DE REPERCUTIR EN EL PRESTIGIO DADO POR LA CIUDADANIA ACTIVA AL LOBBY POLÍTICO Y ORGANISMOS QUE REPRESENTAN AL SISTEMA ,(Cuerpo policial, organismos internacionales, Eurodiputados, etc.)\n",
    "EN ESTE CASO EL ESTUDIO SOLO SE CENTRARA EN LA EUROZONA. Y MAS DETALLADAMENTE EN SUBGRUPOS DE PAISES QUE TIENEN PARECIDOS EN LAS CARACTERISTICAS ECONOMICAS, CULTURALES Y CON CIERTA CERCANIA GEOGRAFICA.\n",
    "\n",
    "\n",
    "EN RESUMEN SE DEMOSTRARA LA RELACION POSITIVA ENTRE LA INFLACION, EL BAJO SUELDO BRUTO MENSUAL MEDIO DEL PAIS, EL PIB PER CAPITA Y CONDUCTAS NEGATIVAS PARA EL SISTEMA DE LA CIUDADANIA."
   ]
  },
  {
   "cell_type": "markdown",
   "metadata": {},
   "source": [
    "PLANTEAMIENTO:\n",
    "Para ello haremos una división de nuestro dataset basandonos en la inflación, sueldo bruto mensual medio y pib per capita, para crear subgrupos que tengan similitudes socioeconomicas, compararemos los datos respecto a la Eurozona en general. Haremos un trabajo de etiquetación ademas de proponer varias variables de diferente campo semantico como targets."
   ]
  },
  {
   "cell_type": "markdown",
   "metadata": {},
   "source": [
    "Preparacion de datos:\n",
    "Vamos a preparar los dataframes, descargandolos de la base de datos sql \"database9k.db\""
   ]
  },
  {
   "cell_type": "code",
   "execution_count": null,
   "metadata": {},
   "outputs": [],
   "source": [
    "#1) Creacion de Subgrupos de paises:\n",
    "import pandas as pd\n",
    "from sqlalchemy import create_engine, text\n",
    "import os\n",
    "import sqlite3\n",
    "#1.1 Nos conectamos a la base de datos.\n",
    "database_path = os.path.abspath(\"C:/GitHubRepos/ProyectoFinal/data/processed/Dataset9k.db\")\n",
    "print(f\"Database path: {database_path}\")\n",
    "conn = create_engine(f'sqlite:///{database_path}')\n",
    "# Execute the SQL query, ya hemos visto en el visualizador de sql que los datos que deberian ser numericos hay algunas columnas que son formato texto, \n",
    "# hacemos un query para transformarlos justo antes de almacenarlos en un dataframe\n",
    "\n",
    "#DF inflacion\n",
    "query = \"\"\"\n",
    "SELECT País, REPLACE(Inflación, ',', '.') AS Inflación_Float\n",
    "FROM EuroInfl\n",
    "\"\"\"\n",
    "#Creamos un diccionario para almacenar la conversion\n",
    "dtype_dict = {'Inflación_Float': float}\n",
    "# Load the DataFrame with the dtype dictionary\n",
    "df_inf = pd.read_sql_query(query, conn, dtype=dtype_dict)\n",
    "df_inf.drop_duplicates(subset='País', keep='first', inplace=True)\n",
    "\n",
    "#DF PPC\n",
    "query = f\"\"\"\n",
    "SELECT País, ROUND(PPC) AS PPC_INTEGER\n",
    "FROM EuroPPC\n",
    "\"\"\"\n",
    "df_PPC = pd.read_sql_query(query, conn)\n",
    "df_PPC.drop_duplicates(subset='País', keep='first', inplace=True)\n",
    "print(df_PPC)\n",
    "\n",
    "#DF SBMM\n",
    "query = \"\"\"\n",
    "SELECT País, REPLACE(SBMM, ',', '.') AS SBMM_Float\n",
    "FROM EuroSBMM\n",
    "\"\"\"\n",
    "dtype_dict = {'SBMM': float}\n",
    "df_SBMM = pd.read_sql_query(query, conn)\n",
    "df_SBMM.drop_duplicates(subset='País', keep='first', inplace=True)\n",
    "df_SBMM['País'] = df_SBMM['País'].str.strip().str.lower()\n",
    "\n",
    "conn.dispose()\n",
    "print(df_SBMM)\n"
   ]
  },
  {
   "cell_type": "code",
   "execution_count": null,
   "metadata": {},
   "outputs": [],
   "source": [
    "#No hay forma de cambiar la columna paises de la tabla SBMM, por lo que habra que realizar un diccionario de equivalencias para hacer coincidir la columna paises en los tres\n",
    "#Dataframes de graficos, realizaremos posteriormente una clusterizacion para elegir 3 subgrupos de paises con economias similares y poder compararlos\n",
    "#A nivel general con la Union Europea.\n",
    "país_equivalencias = {\n",
    "    'bulgaria :bg:': 'Bulgaria',\n",
    "    'rumanía :ro:': 'Rumania',\n",
    "    'hungría :hu:': 'Hungría',\n",
    "    'croacia :hr:': 'Croacia',\n",
    "    'polonia :pl:': 'Polonia',\n",
    "    'letonia :lv:': 'Letonia',\n",
    "    'eslovaquia :sk:': 'República Eslovaca',\n",
    "    'grecia :gr:': 'Grecia',\n",
    "    'lituania :lt:': 'Lituania',\n",
    "    'estonia :ee:': 'Estonia',\n",
    "    'portugal :pt:': 'Portugal',\n",
    "    'república checa :cz:': 'República Checa',\n",
    "    'malta :mt:': 'Malta',\n",
    "    'chipre :cy:': 'Chipre',\n",
    "    'eslovenia :si:': 'Eslovenia',\n",
    "    'españa :es:': 'España',\n",
    "    'italia :it:': 'Italia',\n",
    "    'media ue :eu:': 'Unión Europea',\n",
    "    'francia :fr:': 'Francia',\n",
    "    'suecia :se:': 'Suecia',\n",
    "    'finlandia :fi:': 'Finlandia',\n",
    "    'austria :at:': 'Austria',\n",
    "    'países bajos :nl:': 'Países Bajos',\n",
    "    'bélgica :be:': 'Bélgica',\n",
    "    'irlanda :ie:': 'Irlanda',\n",
    "    'alemania :de:': 'Alemania',\n",
    "    'dinamarca :dk:': 'Dinamarca',\n",
    "    'luxemburgo :lu:': 'Luxemburgo',\n",
    "}\n",
    "df_SBMM['País'] = df_SBMM['País'].map(país_equivalencias)\n",
    "print(df_SBMM)"
   ]
  },
  {
   "cell_type": "code",
   "execution_count": null,
   "metadata": {},
   "outputs": [],
   "source": [
    "#Antes de la concatenacion de los dataframe hemos de hacer coincidir el tipo de datos, coincidir el index \n",
    "\n",
    "df_inf.reset_index(drop=True, inplace=True)\n",
    "print(df_inf['País'].dtype)\n",
    "print(df_inf['Inflación_Float'].dtype)\n",
    "print(df_inf)"
   ]
  },
  {
   "cell_type": "code",
   "execution_count": null,
   "metadata": {},
   "outputs": [],
   "source": [
    "#df_PPC dtypes\n",
    "df_PPC.reset_index(drop=True, inplace=True)\n",
    "print(df_PPC['País'].dtype)\n",
    "print(df_PPC['PPC_INTEGER'].dtype)"
   ]
  },
  {
   "cell_type": "code",
   "execution_count": null,
   "metadata": {},
   "outputs": [],
   "source": [
    "#df_SBMM\n",
    "df_SBMM.reset_index(drop=True, inplace=True)\n",
    "print(df_SBMM['País'].dtype)\n",
    "print(df_SBMM['SBMM_Float'].dtype)\n",
    "#Aqui tenemos el problema, hemos de pasar la columna SBMM_FLoat a float64\n",
    "df_SBMM['SBMM_Float'] = df_SBMM['SBMM_Float'].astype('float64')\n",
    "print(df_SBMM['SBMM_Float'].dtype)"
   ]
  },
  {
   "cell_type": "code",
   "execution_count": null,
   "metadata": {},
   "outputs": [],
   "source": [
    "#Preparamos el dataframe concatenado filtrando por valores unicos de paises y sus valores numericos en cada uno de los dataframes.\n",
    "# Encontrar países comunes\n",
    "paises_comunes = set(df_inf['País']).intersection(set(df_PPC['País']), set(df_SBMM['País']))\n",
    "\n",
    "# Filtrar DataFrames para países comunes y establecer 'País' como índice\n",
    "df_i1 = df_inf[df_inf['País'].isin(paises_comunes)].set_index('País')\n",
    "df_P1 = df_PPC[df_PPC['País'].isin(paises_comunes)].set_index('País')\n",
    "df_S1 = df_SBMM[df_SBMM['País'].isin(paises_comunes)].set_index('País')\n",
    "# Concatenar los DataFrames por columnas\n",
    "df_IPS = pd.concat([df_i1, df_P1, df_S1], axis=1)\n",
    "#Eliminamos variables usadas que no son inutiles.\n",
    "df_IPS.to_csv('C:/GitHubRepos/ProyectoFinal/data/processed/EuEco.csv', index=True)\n",
    "del df_i1, df_P1, df_S1, df_inf, df_SBMM, df_PPC, país_equivalencias, dtype_dict, paises_comunes, df_IPS\n",
    "df1= pd.read_csv('C:\\GitHubRepos\\ProyectoFinal\\data\\processed\\EuEco.csv')\n",
    "print(df1)\n"
   ]
  },
  {
   "cell_type": "code",
   "execution_count": null,
   "metadata": {},
   "outputs": [],
   "source": [
    "import pandas as pd\n",
    "import seaborn as sns\n",
    "import matplotlib.pyplot as plt\n",
    "#1.5 Representacion Graficos Economicos.\n",
    "# Crear una grupo de graficos lineales con 3 subplots en una fila\n",
    "fig, axes = plt.subplots(nrows=1, ncols=3, figsize=(20, 8))\n",
    "# Graficar cada DataFrame en un subplot diferente\n",
    "axes[0].plot(df1['País'], df1['Inflación_Float'])\n",
    "axes[0].set_title('Inflacion Europa 2023')\n",
    "axes[0].set_xlabel('Paises Euro')\n",
    "axes[0].set_ylabel('Porcentaje')\n",
    "axes[0].tick_params(axis='x', rotation=90)  \n",
    "\n",
    "axes[1].plot(df1['País'], df1['SBMM_Float'], color='Green')\n",
    "axes[1].set_title('Sueldo Bruto Mensual Medio')\n",
    "axes[1].set_xlabel('Paises Euro')\n",
    "axes[1].set_ylabel('Euros')\n",
    "axes[1].set_ylim(ymin=0) \n",
    "axes[1].tick_params(axis='x', rotation=90)  \n",
    "\n",
    "axes[2].plot(df1['País'], df1['PPC_INTEGER'],  color='Orange')\n",
    "axes[2].set_title('PIB Per Capita Anual')\n",
    "axes[2].set_xlabel('Paises Euro')\n",
    "axes[2].set_ylabel('Miles de Euros')\n",
    "axes[2].set_ylim(ymin=0)  \n",
    "axes[2].tick_params(axis='x', rotation=90) \n",
    "plt.tight_layout()\n",
    "plt.show()\n",
    "df1.set_index('País', inplace=True)\n",
    "for column in ['Inflación_Float', 'PPC_INTEGER', 'SBMM_Float']:\n",
    "    sns.lineplot(data=df1, x=df1.index, y=column, label=column)\n",
    "plt.title('Evolución de indicadores económicos por país')\n",
    "plt.xlabel('País')\n",
    "plt.ylabel('Valor')\n",
    "plt.legend(title='Indicador')\n",
    "plt.xticks(rotation=90)\n",
    "\n",
    "plt.show()\n",
    "del axes\n"
   ]
  },
  {
   "cell_type": "code",
   "execution_count": null,
   "metadata": {},
   "outputs": [],
   "source": [
    "#Ahora vamos a crear 3 subgrupos de paises: \n",
    "#Los haremos automaticamente con KMeans, podemos predecir los grupos\n",
    "#por las caracteristicas economicas.\n",
    "import pandas as pd\n",
    "import numpy as np\n",
    "import matplotlib.pyplot as plt\n",
    "from sklearn.cluster import KMeans\n",
    "import plotly.express as px\n",
    "\n",
    "X = df1[['Inflación_Float', 'PPC_INTEGER', 'SBMM_Float']]\n",
    "kmeans = KMeans(n_clusters=3, random_state=0).fit(X)\n",
    "df1['cluster'] = kmeans.labels_\n",
    "fig = px.scatter_3d(df1, x='Inflación_Float', y='PPC_INTEGER', z='SBMM_Float',\n",
    "              color='cluster',\n",
    "              opacity=0.7,\n",
    "              color_continuous_scale='viridis',\n",
    "              symbol='cluster',\n",
    "              size_max=18)\n",
    "fig.update_layout(\n",
    "    title='Clustering de países en 3D',\n",
    "    scene = dict(\n",
    "        xaxis_title='Inflación',\n",
    "        yaxis_title='PPC',\n",
    "        zaxis_title='SBMM'\n",
    "    ),\n",
    "    legend=dict(\n",
    "        title='Cluster',\n",
    "        yanchor=\"top\",\n",
    "        xanchor=\"right\"\n",
    "    )\n",
    ")\n",
    "\n",
    "fig.show()"
   ]
  },
  {
   "cell_type": "code",
   "execution_count": null,
   "metadata": {},
   "outputs": [],
   "source": [
    "#Ahora llamamos a los valores unicos del indice default del df1 que se agrupan en cada cluster para seleccionar ademas \n",
    "#del criterio matematico, razones geograficas y culturales.\n",
    "\n",
    "for i in range(kmeans.n_clusters):\n",
    "    cluster_i = df1[df1['cluster'] == i].index\n",
    "    print(f\"Países en el cluster {i}:\")\n",
    "    print(cluster_i.tolist())\n",
    "del X"
   ]
  },
  {
   "cell_type": "markdown",
   "metadata": {},
   "source": [
    "Seleccionaremos 2 paises por grupo:\n",
    "GRUPO A(Economicamente mas rico.):  Alemania, Paises Bajos.\n",
    "GRUPO B(Economicamente similar a la media, tomaremos como referencia España e Italia): UE, España, Italia.\n",
    "Nuestro dataset principal no tiene muestras especificas de la Media de la UE.\n",
    "GRUPO C(Economicamente inferior a la media.): Hungría, Bulgaria."
   ]
  },
  {
   "cell_type": "markdown",
   "metadata": {},
   "source": [
    "2) EXPLORACION DE DATOS Y ANÁLISIS:\n",
    "AL SER DATOS CATEGÓRICOS FACTORIZADOS NO TENDREMOS PROBLEMAS DE OUTLIERS. CADA PARTE DEL EDA TENDRA SUBDIVISIONES.\n",
    "ACORDEMONOS QUE NUESTRO DATASET PRINCIPAL, SUS VARIABLES CATEGORICAS ESTAN AGRUPADAS POR 4 GRANDES BLOQUES\n",
    "[Bloque 1(Medios de informacion),Bloque 2(Político),Bloque 3(Bienestar Social), Bloque 4(Valores personales)] CON UN TOTAL DE 57 VARIABLES. CON MUESTRAS DE TODOS LOS PAISES DE LA ZONA EURO, UNAS 100MIL FILAS DE MUESTRAS.\n",
    "ALGO MAS DE 9K MUESTRAS POR PAIS."
   ]
  },
  {
   "cell_type": "code",
   "execution_count": null,
   "metadata": {},
   "outputs": [],
   "source": [
    "#Almacenamos dataset principal, y datasets de GRUPO A,B,C en un csv para mejor manejo.(dfeu,dfA,dfB,dfC)\n",
    "import numpy as np\n",
    "from numpy import random\n",
    "rng = random.seed(42)\n",
    "database_path = os.path.abspath(\"C:/GitHubRepos/ProyectoFinal/data/processed/Dataset9k.db\")\n",
    "print(f\"Database path: {database_path}\")\n",
    "conn = create_engine(f'sqlite:///{database_path}')\n",
    "query = \"SELECT * FROM ZonaEuroESS\"\n",
    "dfZES = pd.read_sql(query, conn)\n",
    "conn.dispose()\n"
   ]
  },
  {
   "cell_type": "code",
   "execution_count": null,
   "metadata": {},
   "outputs": [],
   "source": [
    "#df's A,B y C\n",
    "dfeu = dfZES.sample(n=2700,random_state=rng)\n",
    "dfeu.to_csv('C:\\GitHubRepos\\ProyectoFinal\\data\\processed\\dfeu.csv', index=False)\n",
    "\n",
    "dffa = dfZES[dfZES['cntry'].isin(['Alemania', 'Holanda'])]\n",
    "dfA = dffa.groupby('cntry').sample(n=2700, random_state=rng, replace=True)\n",
    "dfA.to_csv('C:\\GitHubRepos\\ProyectoFinal\\data\\processed\\dfA.csv', index=False)\n",
    "\n",
    "dffb = dfZES[dfZES['cntry'].isin(['España', 'Italia'])]\n",
    "dfB = dffb.groupby('cntry').sample(n=2700, random_state=rng, replace=True)\n",
    "dfB.to_csv('C:\\GitHubRepos\\ProyectoFinal\\data\\processed\\dfB.csv', index=False)\n",
    "\n",
    "dffc = dfZES[dfZES['cntry'].isin(['Hungria', 'Bulgaria'])]\n",
    "dfC = dffc.groupby('cntry').sample(n=2700, random_state=rng, replace=True)\n",
    "dfC.to_csv('C:\\GitHubRepos\\ProyectoFinal\\data\\processed\\dfC.csv', index=False)\n",
    "\n",
    "del dffa, dffb, dffc, X, "
   ]
  },
  {
   "cell_type": "code",
   "execution_count": null,
   "metadata": {},
   "outputs": [],
   "source": [
    "#2.1) Analisis univariable categoricas factorizadas.\n",
    "#Primero de todo factorizaremos la columna paises "
   ]
  }
 ],
 "metadata": {
  "kernelspec": {
   "display_name": ".FPJBGPCSobremesa-env",
   "language": "python",
   "name": "python3"
  },
  "language_info": {
   "codemirror_mode": {
    "name": "ipython",
    "version": 3
   },
   "file_extension": ".py",
   "mimetype": "text/x-python",
   "name": "python",
   "nbconvert_exporter": "python",
   "pygments_lexer": "ipython3",
   "version": "3.13.0"
  }
 },
 "nbformat": 4,
 "nbformat_minor": 2
}
