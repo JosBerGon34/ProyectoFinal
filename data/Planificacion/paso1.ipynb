{
 "cells": [
  {
   "cell_type": "code",
   "execution_count": 1,
   "metadata": {},
   "outputs": [
    {
     "ename": "OperationalError",
     "evalue": "invalid integer value \"tu_puerto\" for connection option \"port\"\n",
     "output_type": "error",
     "traceback": [
      "\u001b[0;31m---------------------------------------------------------------------------\u001b[0m",
      "\u001b[0;31mOperationalError\u001b[0m                          Traceback (most recent call last)",
      "Cell \u001b[0;32mIn[1], line 10\u001b[0m\n\u001b[1;32m      7\u001b[0m \u001b[38;5;28;01mimport\u001b[39;00m\u001b[38;5;250m \u001b[39m\u001b[38;5;21;01mpsycopg2\u001b[39;00m\n\u001b[1;32m      9\u001b[0m \u001b[38;5;66;03m# Configuración de la base de datos\u001b[39;00m\n\u001b[0;32m---> 10\u001b[0m conn \u001b[38;5;241m=\u001b[39m \u001b[43mpsycopg2\u001b[49m\u001b[38;5;241;43m.\u001b[39;49m\u001b[43mconnect\u001b[49m\u001b[43m(\u001b[49m\n\u001b[1;32m     11\u001b[0m \u001b[43m    \u001b[49m\u001b[43mdbname\u001b[49m\u001b[38;5;241;43m=\u001b[39;49m\u001b[38;5;124;43m\"\u001b[39;49m\u001b[38;5;124;43mtu_base_de_datos\u001b[39;49m\u001b[38;5;124;43m\"\u001b[39;49m\u001b[43m,\u001b[49m\n\u001b[1;32m     12\u001b[0m \u001b[43m    \u001b[49m\u001b[43muser\u001b[49m\u001b[38;5;241;43m=\u001b[39;49m\u001b[38;5;124;43m\"\u001b[39;49m\u001b[38;5;124;43mtu_usuario\u001b[39;49m\u001b[38;5;124;43m\"\u001b[39;49m\u001b[43m,\u001b[49m\n\u001b[1;32m     13\u001b[0m \u001b[43m    \u001b[49m\u001b[43mpassword\u001b[49m\u001b[38;5;241;43m=\u001b[39;49m\u001b[38;5;124;43m\"\u001b[39;49m\u001b[38;5;124;43mtu_contraseña\u001b[39;49m\u001b[38;5;124;43m\"\u001b[39;49m\u001b[43m,\u001b[49m\n\u001b[1;32m     14\u001b[0m \u001b[43m    \u001b[49m\u001b[43mhost\u001b[49m\u001b[38;5;241;43m=\u001b[39;49m\u001b[38;5;124;43m\"\u001b[39;49m\u001b[38;5;124;43mtu_host\u001b[39;49m\u001b[38;5;124;43m\"\u001b[39;49m\u001b[43m,\u001b[49m\n\u001b[1;32m     15\u001b[0m \u001b[43m    \u001b[49m\u001b[43mport\u001b[49m\u001b[38;5;241;43m=\u001b[39;49m\u001b[38;5;124;43m\"\u001b[39;49m\u001b[38;5;124;43mtu_puerto\u001b[39;49m\u001b[38;5;124;43m\"\u001b[39;49m\n\u001b[1;32m     16\u001b[0m \u001b[43m)\u001b[49m\n\u001b[1;32m     17\u001b[0m cursor \u001b[38;5;241m=\u001b[39m conn\u001b[38;5;241m.\u001b[39mcursor()\n\u001b[1;32m     19\u001b[0m \u001b[38;5;66;03m# Crear la tabla en la base de datos (ajusta según tu esquema)\u001b[39;00m\n",
      "File \u001b[0;32m~/.local/lib/python3.10/site-packages/psycopg2/__init__.py:122\u001b[0m, in \u001b[0;36mconnect\u001b[0;34m(dsn, connection_factory, cursor_factory, **kwargs)\u001b[0m\n\u001b[1;32m    119\u001b[0m     kwasync[\u001b[38;5;124m'\u001b[39m\u001b[38;5;124masync_\u001b[39m\u001b[38;5;124m'\u001b[39m] \u001b[38;5;241m=\u001b[39m kwargs\u001b[38;5;241m.\u001b[39mpop(\u001b[38;5;124m'\u001b[39m\u001b[38;5;124masync_\u001b[39m\u001b[38;5;124m'\u001b[39m)\n\u001b[1;32m    121\u001b[0m dsn \u001b[38;5;241m=\u001b[39m _ext\u001b[38;5;241m.\u001b[39mmake_dsn(dsn, \u001b[38;5;241m*\u001b[39m\u001b[38;5;241m*\u001b[39mkwargs)\n\u001b[0;32m--> 122\u001b[0m conn \u001b[38;5;241m=\u001b[39m \u001b[43m_connect\u001b[49m\u001b[43m(\u001b[49m\u001b[43mdsn\u001b[49m\u001b[43m,\u001b[49m\u001b[43m \u001b[49m\u001b[43mconnection_factory\u001b[49m\u001b[38;5;241;43m=\u001b[39;49m\u001b[43mconnection_factory\u001b[49m\u001b[43m,\u001b[49m\u001b[43m \u001b[49m\u001b[38;5;241;43m*\u001b[39;49m\u001b[38;5;241;43m*\u001b[39;49m\u001b[43mkwasync\u001b[49m\u001b[43m)\u001b[49m\n\u001b[1;32m    123\u001b[0m \u001b[38;5;28;01mif\u001b[39;00m cursor_factory \u001b[38;5;129;01mis\u001b[39;00m \u001b[38;5;129;01mnot\u001b[39;00m \u001b[38;5;28;01mNone\u001b[39;00m:\n\u001b[1;32m    124\u001b[0m     conn\u001b[38;5;241m.\u001b[39mcursor_factory \u001b[38;5;241m=\u001b[39m cursor_factory\n",
      "\u001b[0;31mOperationalError\u001b[0m: invalid integer value \"tu_puerto\" for connection option \"port\"\n"
     ]
    }
   ],
   "source": [
    "#WEB SCRAPPING y ALMACENAMIENTO SQL.\n",
    "\n",
    "from selenium import webdriver\n",
    "from selenium.webdriver.common.by import By\n",
    "from webdriver_manager.chrome import ChromeDriverManager\n",
    "import pandas as pd\n",
    "import psycopg2\n",
    "\n",
    "# Configuración de la base de datos\n",
    "conn = psycopg2.connect(\n",
    "    dbname=\"tu_base_de_datos\",\n",
    "    user=\"tu_usuario\",\n",
    "    password=\"tu_contraseña\",\n",
    "    host=\"tu_host\",\n",
    "    port=\"tu_puerto\"\n",
    ")\n",
    "cursor = conn.cursor()\n",
    "\n",
    "# Crear la tabla en la base de datos (ajusta según tu esquema)\n",
    "cursor.execute(\"\"\"\n",
    "    CREATE TABLE IF NOT EXISTS tablas_web (\n",
    "        id SERIAL PRIMARY KEY,\n",
    "        pagina TEXT,\n",
    "        datos JSONB\n",
    "    )\n",
    "\"\"\")\n",
    "\n",
    "# Instanciar el WebDriver de Chrome\n",
    "driver = webdriver.Chrome(ChromeDriverManager().install())\n",
    "\n",
    "# URL de la página web\n",
    "url = \"https://www.example.com\"\n",
    "driver.get(url)\n",
    "\n",
    "# Encontrar todas las tablas en la página\n",
    "tables = driver.find_elements(By.TAG_NAME, \"table\")\n",
    "\n",
    "for index, table in enumerate(tables):\n",
    "    # Crear una lista para almacenar los datos de cada fila\n",
    "    data = []\n",
    "    for row in table.find_elements(By.TAG_NAME, \"tr\"):\n",
    "        cells = row.find_elements(By.TAG_NAME, \"td\")\n",
    "        row_data = [cell.text for cell in cells]\n",
    "        data.append(row_data)\n",
    "\n",
    "    # Crear un DataFrame de pandas\n",
    "    df = pd.DataFrame(data)\n",
    "\n",
    "    # Convertir el DataFrame a un diccionario para almacenarlo como JSON\n",
    "    data_json = df.to_json(orient='records')\n",
    "\n",
    "    # Insertar los datos en la base de datos\n",
    "    sql = \"\"\"\n",
    "        INSERT INTO tablas_web (pagina, datos)\n",
    "        VALUES (%s, %s)\n",
    "    \"\"\"\n",
    "    val = (url, data_json)\n",
    "    cursor.execute(sql, val)\n",
    "\n",
    "# Confirmar los cambios\n",
    "conn.commit()\n",
    "\n",
    "# Cerrar la conexión a la base de datos y el navegador\n",
    "cursor.close()\n",
    "conn.close()\n",
    "driver.quit()"
   ]
  }
 ],
 "metadata": {
  "kernelspec": {
   "display_name": "Python 3",
   "language": "python",
   "name": "python3"
  },
  "language_info": {
   "codemirror_mode": {
    "name": "ipython",
    "version": 3
   },
   "file_extension": ".py",
   "mimetype": "text/x-python",
   "name": "python",
   "nbconvert_exporter": "python",
   "pygments_lexer": "ipython3",
   "version": "3.10.12"
  }
 },
 "nbformat": 4,
 "nbformat_minor": 2
}
