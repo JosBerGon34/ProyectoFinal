{
 "cells": [
  {
   "cell_type": "code",
   "execution_count": null,
   "metadata": {},
   "outputs": [],
   "source": [
    "#STREAMLIT, APP QUERY ANSWER.\n"
   ]
  },
  {
   "cell_type": "markdown",
   "metadata": {},
   "source": [
    "FORMULARIO Y DESPLIEGUE:\n",
    "FACTORES SOCIOECONOMICOS:\n",
    "FACTORES GEOGRÁFICOS:\n",
    "FACTORES PERSONALES:"
   ]
  }
 ],
 "metadata": {
  "kernelspec": {
   "display_name": "Python 3",
   "language": "python",
   "name": "python3"
  },
  "language_info": {
   "name": "python",
   "version": "3.10.12"
  }
 },
 "nbformat": 4,
 "nbformat_minor": 2
}
