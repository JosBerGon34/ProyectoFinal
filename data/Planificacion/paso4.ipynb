{
 "cells": [
  {
   "cell_type": "code",
   "execution_count": null,
   "metadata": {
    "vscode": {
     "languageId": "plaintext"
    }
   },
   "outputs": [],
   "source": [
    "#STREAMLIT, APP QUERY ANSWER.\n"
   ]
  },
  {
   "cell_type": "markdown",
   "metadata": {},
   "source": [
    "FORMULARIO Y DESPLIEGUE:\n",
    "FACTORES SOCIOECONOMICOS:\n",
    "FACTORES GEOGRÁFICOS:\n",
    "FACTORES PERSONALES:"
   ]
  }
 ],
 "metadata": {
  "language_info": {
   "name": "python"
  }
 },
 "nbformat": 4,
 "nbformat_minor": 2
}
