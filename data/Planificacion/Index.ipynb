{
 "cells": [
  {
   "cell_type": "markdown",
   "metadata": {},
   "source": [
    "OBJETIVO: ETIQUETAR PERFILES, TENIENDO EN CUENTA LAS  MODAS, SITUACIÓN GEOGRÁFICA Y SOCIOLOGICA DE ESPAÑA Y EUROPA, PARA PREDECIR Y RECOMENDAR TIPO DE VEHICULO."
   ]
  },
  {
   "cell_type": "markdown",
   "metadata": {},
   "source": [
    "PASO 1: \n",
    "RECOLECTAR DATOS MODALES, GEOGRÁFICOS Y SOCIOLOGICOS SOBRE LA POBLACION ESPAÑOLA Y EUROPEA (SE COMPARARÁN), MEDIANTE WEB SCRAPPING Y ALMACENAMIENTO EN SQL."
   ]
  },
  {
   "cell_type": "markdown",
   "metadata": {},
   "source": [
    "PASO 2:\n",
    "ESTRUCTURACION DE TABLAS, LIMPIEZA Y EXPLORACION DE DATOS. (EDA Y MACHINE LEARNING)."
   ]
  },
  {
   "cell_type": "markdown",
   "metadata": {},
   "source": [
    "PASO 3:\n",
    "FEATURE ENGINEERING, UTILIZAREMOS KMEANS PARA CLUSTERIZAR Y ETIQUETAR INDIVIDUOS EN FUNCIÓN DE LOS VALORES DE CADA VARIABLE ENTRANTE."
   ]
  },
  {
   "cell_type": "markdown",
   "metadata": {},
   "source": [
    "PASO 4:\n",
    "APLICACION STREAMLIT QUERY ANSWER. SE REALIZARÁ UN QUESTIONARIO AL USUARIO PARA RECOMENDAR E IDENTIFICAR EN QUE CLUSTER DE NUESTRO PASO 3 SE ENCUENTRA Y PODER RECOMENDAR VEHÍCULO EN FUNCIÓN DE SU STATUS Y NECESIDADES."
   ]
  }
 ],
 "metadata": {
  "kernelspec": {
   "display_name": "Python 3",
   "language": "python",
   "name": "python3"
  },
  "language_info": {
   "name": "python",
   "version": "3.10.12"
  }
 },
 "nbformat": 4,
 "nbformat_minor": 2
}
