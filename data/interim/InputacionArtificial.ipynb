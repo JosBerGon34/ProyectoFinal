{
 "cells": [
  {
   "cell_type": "markdown",
   "metadata": {},
   "source": [
    "LA IDEA DE ESTE DOCUMENTO, ES TRATAR LOS DATOS FALTANTES DE FORMA INNOVADORA, VAMOS A REALIZAR UN DATASET ARTIFICIAL BASANDONOS EN DICCIONARIOS DONDE CONTENDRAN LOS VALORES UNICOS Y SUS PORCENTAJES PONDERADOS DE CADA PAIS DENTRO DE NUESTRO ESTUDIO.\n",
    "VAMOS  A GENERAR UN DATASET DONDE CONTENGA TODAS LAS COMBINACIONES POSIBLES DE LAS VARIABLES PONDERADAS, LO HAREMOS DE FORMA SECUENCIAL, PRIMERO SE HARA UN BLOQUE , SE CLUSTERIZARA ESE BLOQUE EN FUNCION DE LAS POSIBILIDADES Y LA DEFINICION SEMANTICA DEL MISMO.\n",
    "LUEGO SE AÑADIRAN  BLOQUES , HASTA COMPLETAR LOS CUATRO. SE DEBERA REDUCIR LA COMPLEJIDAD DE CADA UNA DE LAS VARIABLES, FACTORIZANDOLAS PREVIAMENTE DE FORMA LOGICA.\n",
    "\n",
    "POR ULTIMO SE UTILIZARA ESTE DATASET ARTIFICIAL PARA RELLENAR DATOS FALTANTES DE NUESTRO DATASET ORIGINAL, ALGO SIMILAR A LO QUE OFRECE KNN INPUTER PERO DE UNA FORMA MAS ESPECIFICA Y PRECISA."
   ]
  },
  {
   "cell_type": "code",
   "execution_count": 1,
   "metadata": {},
   "outputs": [],
   "source": [
    "import pandas as pd\n",
    "df_nan = pd.read_csv('C:/GitHubRepos/ProyectoFinal/data/interim/dfnan.csv')"
   ]
  },
  {
   "cell_type": "markdown",
   "metadata": {},
   "source": [
    "SELECCION VARIABLES BLOQUE 1 (Media):\n",
    "VAR netusoft - Internet use, how often\n",
    "Value\tCategory\n",
    "1\tNever\n",
    "2\tOnly occasionally\n",
    "3\tA few times a week\n",
    "4\tMost days\n",
    "5\tEvery day\n",
    "//7\tRefusal*-DISCARDED\n",
    "//8\tDon't know*-DISCARDED\n",
    "//9\tNo answer*-DISCARDED\n",
    "\n",
    "VAR nwsptot - Newspaper reading, total time on average weekday\n",
    "Value\tCategory\n",
    "0\tNo time at all\n",
    "1\tLess than 0,5 hour\n",
    "2\t0,5 hour to 1 hour\n",
    "3\tMore than 1 hour, up to 1,5 hours\n",
    "4\tMore than 1,5 hours, up to 2 hours\n",
    "5\tMore than 2 hours, up to 2,5 hours\n",
    "6\tMore than 2,5 hours, up to 3 hours\n",
    "7\tMore than 3 hours\n",
    "//77\tRefusal*-DISCARDED\n",
    "//88\tDon't know*-DISCARDED\n",
    "//99\tNo answer* -DISCARDED\n",
    "\n",
    "VAR ppltrst - Most people of the media can be trusted or you can't be too careful (VAR TARGET DEL BLOQUE 1)\n",
    "Value\tCategory\n",
    "0\tYou can't be too careful\n",
    "1\t1\n",
    "2\t2\n",
    "3\t3\n",
    "4\t4\n",
    "5\t5\n",
    "6\t6\n",
    "7\t7\n",
    "8\t8\n",
    "9\t9\n",
    "10\tMost people can be trusted\n",
    "//77\tRefusal* -DISCARDED\n",
    "//88\tDon't know* -DISCARDED\n",
    "//99\tNo answer*-DISCARDED\n",
    "\n",
    "VAR rdtot - Radio listening, total time on average weekday.\n",
    "\n",
    "Value\tCategory\n",
    "0\tNo time at all\n",
    "1\tLess than 0,5 hour\n",
    "2\t0,5 hour to 1 hour\n",
    "3\tMore than 1 hour, up to 1,5 hours\n",
    "4\tMore than 1,5 hours, up to 2 hours\n",
    "5\tMore than 2 hours, up to 2,5 hours\n",
    "6\tMore than 2,5 hours, up to 3 hours\n",
    "7\tMore than 3 hours\n",
    "//77\tRefusal*-DISCARDED\n",
    "//88\tDon't know*-DISCARDED\n",
    "//99\tNo answer*-DISCARDED\n",
    "\n",
    "VAR tvtot - TV watching, total time on average weekday.\n",
    "Value\tCategory\n",
    "0\tNo time at all\n",
    "1\tLess than 0,5 hour\n",
    "2\t0,5 hour to 1 hour\n",
    "3\tMore than 1 hour, up to 1,5 hours\n",
    "4\tMore than 1,5 hours, up to 2 hours\n",
    "5\tMore than 2 hours, up to 2,5 hours\n",
    "6\tMore than 2,5 hours, up to 3 hours\n",
    "7\tMore than 3 hours\n",
    "//77\tRefusal*-DISCARDED\n",
    "//88\tDon't know*-DISCARDED\n",
    "//99\tNo answer*-DISCARDED\n",
    "\n",
    "VAR pplfair - Most people try to take advantage of you, or try to be fair\n",
    "ESCALA DE 0 A 10\n",
    "//77\tRefusal*-DISCARDED\n",
    "//88\tDon't know*-DISCARDED\n",
    "//99\tNo answer*-DISCARDED\n",
    "\n",
    "Resumen columnas/variables 5, BLOQUE 1: df_rd['netusoft','nwsptot','ppltrst','rdtot','tvtot','pplfair']"
   ]
  },
  {
   "cell_type": "code",
   "execution_count": null,
   "metadata": {},
   "outputs": [],
   "source": []
  }
 ],
 "metadata": {
  "kernelspec": {
   "display_name": ".FPJBGPCSobremesa-env",
   "language": "python",
   "name": "python3"
  },
  "language_info": {
   "codemirror_mode": {
    "name": "ipython",
    "version": 3
   },
   "file_extension": ".py",
   "mimetype": "text/x-python",
   "name": "python",
   "nbconvert_exporter": "python",
   "pygments_lexer": "ipython3",
   "version": "3.13.0"
  }
 },
 "nbformat": 4,
 "nbformat_minor": 2
}
